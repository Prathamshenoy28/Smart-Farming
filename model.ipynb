{
 "cells": [
  {
   "cell_type": "code",
   "execution_count": 2,
   "metadata": {},
   "outputs": [
    {
     "name": "stdout",
     "output_type": "stream",
     "text": [
      "Confusion Matrix:\n",
      "[[39  0  0  0  0  3]\n",
      " [ 0 33  3  0  0  0]\n",
      " [ 2  2 36  0  0  0]\n",
      " [ 0  0  0 34  3  0]\n",
      " [ 0  0  0  0 47  0]\n",
      " [ 0  0  0  0  0 38]]\n",
      "\n",
      "Classification Report:\n",
      "              precision    recall  f1-score   support\n",
      "\n",
      "      Barley       0.95      0.93      0.94        42\n",
      "      Cotton       0.94      0.92      0.93        36\n",
      "       Maize       0.92      0.90      0.91        40\n",
      "        Rice       1.00      0.92      0.96        37\n",
      "   Sugarcane       0.94      1.00      0.97        47\n",
      "       Wheat       0.93      1.00      0.96        38\n",
      "\n",
      "    accuracy                           0.95       240\n",
      "   macro avg       0.95      0.94      0.94       240\n",
      "weighted avg       0.95      0.95      0.95       240\n",
      "\n"
     ]
    }
   ],
   "source": [
    "import pandas as pd\n",
    "from sklearn.model_selection import train_test_split\n",
    "from sklearn.ensemble import RandomForestClassifier\n",
    "from sklearn.metrics import classification_report, confusion_matrix\n",
    "from sklearn.preprocessing import LabelEncoder\n",
    "# Load the merged dataset from CSV\n",
    "df = pd.read_csv(\"final_merged_crop_dataset.csv\")\n",
    "# Prepare features and target variable\n",
    "X = df[[\"Soil Moisture\", \"Environment Temperature\", \"Environment Humidity\", \"Environment Light Intensity\"]]\n",
    "y = df[\"Crop\"]\n",
    "# Encode the crop labels into numeric values\n",
    "le = LabelEncoder()\n",
    "y_encoded = le.fit_transform(y)\n",
    "# Split the dataset into training and testing sets (80% train, 20% test)\n",
    "X_train, X_test, y_train, y_test = train_test_split(X, y_encoded, test_size=0.2, random_state=42)\n",
    "# Create and train the RandomForest classifier\n",
    "model = RandomForestClassifier(n_estimators=100, random_state=42)\n",
    "model.fit(X_train, y_train)\n",
    "# Make predictions on the test data\n",
    "y_pred = model.predict(X_test)\n",
    "# Evaluate the model\n",
    "print(\"Confusion Matrix:\")\n",
    "print(confusion_matrix(y_test, y_pred))\n",
    "print(\"\\nClassification Report:\")\n",
    "print(classification_report(y_test, y_pred, target_names=le.classes_))\n"
   ]
  },
  {
   "cell_type": "code",
   "execution_count": 3,
   "metadata": {},
   "outputs": [
    {
     "name": "stdout",
     "output_type": "stream",
     "text": [
      "Model saved successfully!\n"
     ]
    }
   ],
   "source": [
    "import joblib\n",
    "\n",
    "# Save the trained model\n",
    "joblib.dump(model, \"crop_recommendation_model.pkl\")\n",
    "\n",
    "print(\"Model saved successfully!\")\n"
   ]
  }
 ],
 "metadata": {
  "kernelspec": {
   "display_name": "Python 3",
   "language": "python",
   "name": "python3"
  },
  "language_info": {
   "codemirror_mode": {
    "name": "ipython",
    "version": 3
   },
   "file_extension": ".py",
   "mimetype": "text/x-python",
   "name": "python",
   "nbconvert_exporter": "python",
   "pygments_lexer": "ipython3",
   "version": "3.10.11"
  }
 },
 "nbformat": 4,
 "nbformat_minor": 2
}
