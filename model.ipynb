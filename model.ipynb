{
 "cells": [
  {
   "cell_type": "code",
   "execution_count": 1,
   "metadata": {},
   "outputs": [
    {
     "name": "stdout",
     "output_type": "stream",
     "text": [
      "Confusion Matrix:\n",
      "[[328   0  10   0   0  12]\n",
      " [  0 336   7   0   0   0]\n",
      " [  3  33 306   0   0   0]\n",
      " [  0   0   0 329  17   0]\n",
      " [  0   0   0  13 282   0]\n",
      " [  3   0   0   0   0 322]]\n",
      "\n",
      "Classification Report:\n",
      "              precision    recall  f1-score   support\n",
      "\n",
      "      Barley       0.98      0.94      0.96       350\n",
      "      Cotton       0.91      0.98      0.94       343\n",
      "       Maize       0.95      0.89      0.92       342\n",
      "        Rice       0.96      0.95      0.96       346\n",
      "   Sugarcane       0.94      0.96      0.95       295\n",
      "       Wheat       0.96      0.99      0.98       325\n",
      "\n",
      "    accuracy                           0.95      2001\n",
      "   macro avg       0.95      0.95      0.95      2001\n",
      "weighted avg       0.95      0.95      0.95      2001\n",
      "\n"
     ]
    }
   ],
   "source": [
    "import pandas as pd\n",
    "from sklearn.model_selection import train_test_split\n",
    "from sklearn.ensemble import RandomForestClassifier\n",
    "from sklearn.metrics import classification_report, confusion_matrix\n",
    "from sklearn.preprocessing import LabelEncoder\n",
    "\n",
    "df = pd.read_csv(\"final_merged_crop_dataset.csv\")\n",
    "\n",
    "X = df[[\"Soil Moisture\", \"Environment Temperature\", \"Environment Humidity\", \"Environment Light Intensity\"]]\n",
    "y = df[\"Crop\"]\n",
    "\n",
    "le = LabelEncoder()\n",
    "y_encoded = le.fit_transform(y)\n",
    "\n",
    "X_train, X_test, y_train, y_test = train_test_split(X, y_encoded, test_size=0.2, random_state=42)\n",
    "\n",
    "model = RandomForestClassifier(n_estimators=100, random_state=42)\n",
    "model.fit(X_train, y_train)\n",
    "\n",
    "y_pred = model.predict(X_test)\n",
    "\n",
    "print(\"Confusion Matrix:\")\n",
    "print(confusion_matrix(y_test, y_pred))\n",
    "print(\"\\nClassification Report:\")\n",
    "print(classification_report(y_test, y_pred, target_names=le.classes_))\n"
   ]
  },
  {
   "cell_type": "code",
   "execution_count": 3,
   "metadata": {},
   "outputs": [
    {
     "name": "stdout",
     "output_type": "stream",
     "text": [
      "Model saved successfully!\n"
     ]
    }
   ],
   "source": [
    "import joblib\n",
    "\n",
    "joblib.dump(model, \"crop_recommendation_model.pkl\")\n",
    "\n",
    "print(\"Model saved successfully!\")\n"
   ]
  }
 ],
 "metadata": {
  "kernelspec": {
   "display_name": "Python 3",
   "language": "python",
   "name": "python3"
  },
  "language_info": {
   "codemirror_mode": {
    "name": "ipython",
    "version": 3
   },
   "file_extension": ".py",
   "mimetype": "text/x-python",
   "name": "python",
   "nbconvert_exporter": "python",
   "pygments_lexer": "ipython3",
   "version": "3.10.11"
  }
 },
 "nbformat": 4,
 "nbformat_minor": 2
}
