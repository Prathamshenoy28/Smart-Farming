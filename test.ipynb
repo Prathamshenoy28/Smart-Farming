{
 "cells": [
  {
   "cell_type": "code",
   "execution_count": 11,
   "metadata": {},
   "outputs": [
    {
     "name": "stdout",
     "output_type": "stream",
     "text": [
      "Recommended Crop: Wheat\n"
     ]
    }
   ],
   "source": [
    "import joblib\n",
    "import os\n",
    "import pandas as pd\n",
    "\n",
    "crop_labels = {0: \"Barley\", 1: \"Cotton\", 2: \"Maize\", 3: \"Rice\", 4: \"Sugarcane\", 5: \"Wheat\"}\n",
    "\n",
    "model_path = \"crop_recommendation_model.pkl\"\n",
    "if os.path.exists(model_path):\n",
    "   \n",
    "    loaded_model = joblib.load(model_path)\n",
    "   \n",
    "    sample_data = [[60, 20, 60, 40]]\n",
    "\n",
    "    feature_names = [\"Soil Moisture\", \"Environment Temperature\", \"Environment Humidity\", \"Environment Light Intensity\"]\n",
    "    sample_df = pd.DataFrame(sample_data, columns=feature_names)\n",
    "\n",
    "    predicted_label = loaded_model.predict(sample_df)[0]\n",
    "    predicted_crop = crop_labels.get(predicted_label, \"Unknown Crop\")\n",
    "\n",
    "    print(f\"Recommended Crop: {predicted_crop}\")\n",
    "\n",
    "else:\n",
    "    print(\"Model file not found\")\n"
   ]
  },
  {
   "cell_type": "code",
   "execution_count": null,
   "metadata": {},
   "outputs": [],
   "source": []
  }
 ],
 "metadata": {
  "kernelspec": {
   "display_name": "Python 3",
   "language": "python",
   "name": "python3"
  },
  "language_info": {
   "codemirror_mode": {
    "name": "ipython",
    "version": 3
   },
   "file_extension": ".py",
   "mimetype": "text/x-python",
   "name": "python",
   "nbconvert_exporter": "python",
   "pygments_lexer": "ipython3",
   "version": "3.10.11"
  }
 },
 "nbformat": 4,
 "nbformat_minor": 2
}
